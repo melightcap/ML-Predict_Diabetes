{
 "cells": [
  {
   "cell_type": "markdown",
   "id": "a30f2cf6",
   "metadata": {},
   "source": [
    "# Learning\n",
    "\n",
    "This notebook contains some simple examples using *Jupyter Notebook* and *Python3*"
   ]
  },
  {
   "cell_type": "markdown",
   "id": "c68da58b",
   "metadata": {},
   "source": [
    "## Example 1: *Hello World*"
   ]
  },
  {
   "cell_type": "code",
   "execution_count": 4,
   "id": "87c9c6f5",
   "metadata": {},
   "outputs": [
    {
     "name": "stdout",
     "output_type": "stream",
     "text": [
      "Hello, Megan\n",
      "\n"
     ]
    }
   ],
   "source": [
    "myName = \"Megan\"\n",
    "statement = \"Hello, \" + myName\n",
    "print(statement, end=\"\\n\\n\")\n",
    "x = 10"
   ]
  },
  {
   "cell_type": "markdown",
   "id": "11876e7d",
   "metadata": {},
   "source": [
    "## Example 2: World's *best* loop is here"
   ]
  },
  {
   "cell_type": "code",
   "execution_count": 5,
   "id": "930a58e2",
   "metadata": {},
   "outputs": [
    {
     "name": "stdout",
     "output_type": "stream",
     "text": [
      "i = 1 x = 11\n",
      "i = 2 x = 13\n",
      "i = 3 x = 16\n",
      "i = 4 x = 20\n"
     ]
    }
   ],
   "source": [
    "for i in range(1, 5):\n",
    "    x = x + i\n",
    "    print(\"i = {0} x = {1}\".format(i, x))"
   ]
  },
  {
   "cell_type": "code",
   "execution_count": null,
   "id": "073135cc",
   "metadata": {},
   "outputs": [],
   "source": []
  }
 ],
 "metadata": {
  "kernelspec": {
   "display_name": "Python 3",
   "language": "python",
   "name": "python3"
  },
  "language_info": {
   "codemirror_mode": {
    "name": "ipython",
    "version": 3
   },
   "file_extension": ".py",
   "mimetype": "text/x-python",
   "name": "python",
   "nbconvert_exporter": "python",
   "pygments_lexer": "ipython3",
   "version": "3.8.8"
  }
 },
 "nbformat": 4,
 "nbformat_minor": 5
}
